{
  "nbformat": 4,
  "nbformat_minor": 0,
  "metadata": {
    "colab": {
      "name": "hyperparameter_tuning.ipynb",
      "version": "0.3.2",
      "provenance": [],
      "include_colab_link": true
    },
    "kernelspec": {
      "name": "python3",
      "display_name": "Python 3"
    },
    "accelerator": "GPU"
  },
  "cells": [
    {
      "cell_type": "markdown",
      "metadata": {
        "id": "view-in-github",
        "colab_type": "text"
      },
      "source": [
        "[View in Colaboratory](https://colab.research.google.com/github/Tathagatd96/Hyperparameter-Tuning/blob/master/hyperparameter_tuning.ipynb)"
      ]
    },
    {
      "metadata": {
        "id": "-gz28C0Nd_Rv",
        "colab_type": "text"
      },
      "cell_type": "markdown",
      "source": [
        "**Import the required libraries**"
      ]
    },
    {
      "metadata": {
        "id": "G-hC3x83fI4Q",
        "colab_type": "code",
        "colab": {}
      },
      "cell_type": "code",
      "source": [
        "import warnings\n",
        "warnings.filterwarnings('ignore')"
      ],
      "execution_count": 0,
      "outputs": []
    },
    {
      "metadata": {
        "id": "fzi5aFUtauWN",
        "colab_type": "code",
        "colab": {
          "base_uri": "https://localhost:8080/",
          "height": 105
        },
        "outputId": "df5deafd-8206-4060-a7e8-f69f5bb0df2f"
      },
      "cell_type": "code",
      "source": [
        "import numpy as np\n",
        "from xgboost.sklearn import XGBClassifier\n",
        "from sklearn.grid_search import GridSearchCV,RandomizedSearchCV\n",
        "from sklearn.cross_validation import StratifiedKFold\n",
        "from sklearn.datasets import make_classification"
      ],
      "execution_count": 4,
      "outputs": [
        {
          "output_type": "stream",
          "text": [
            "/usr/local/lib/python3.6/dist-packages/sklearn/cross_validation.py:41: DeprecationWarning: This module was deprecated in version 0.18 in favor of the model_selection module into which all the refactored classes and functions are moved. Also note that the interface of the new CV iterators are different from that of this module. This module will be removed in 0.20.\n",
            "  \"This module will be removed in 0.20.\", DeprecationWarning)\n",
            "/usr/local/lib/python3.6/dist-packages/sklearn/grid_search.py:42: DeprecationWarning: This module was deprecated in version 0.18 in favor of the model_selection module into which all the refactored classes and functions are moved. This module will be removed in 0.20.\n",
            "  DeprecationWarning)\n"
          ],
          "name": "stderr"
        }
      ]
    },
    {
      "metadata": {
        "id": "ZmESt-KOeHRh",
        "colab_type": "text"
      },
      "cell_type": "markdown",
      "source": [
        "**We will use the xgboost classifier as our estimator model**"
      ]
    },
    {
      "metadata": {
        "id": "2mFtmcKidfAm",
        "colab_type": "text"
      },
      "cell_type": "markdown",
      "source": [
        "**Creating the dataset**\n",
        "We use the make_classification method from the scikit-learn package for creating an artificial dataset with any number of samples and features. \n",
        "\n",
        "We will use the same dataset for both approaches for comparison."
      ]
    },
    {
      "metadata": {
        "id": "hfGQG7PkddCs",
        "colab_type": "code",
        "colab": {}
      },
      "cell_type": "code",
      "source": [
        "x,y=make_classification(n_samples=1000, n_features=20,shuffle=True,random_state=101)"
      ],
      "execution_count": 0,
      "outputs": []
    },
    {
      "metadata": {
        "id": "_9kLDXmWeJWj",
        "colab_type": "code",
        "colab": {}
      },
      "cell_type": "code",
      "source": [
        "cv=StratifiedKFold(y,n_folds=10,shuffle=True)"
      ],
      "execution_count": 0,
      "outputs": []
    },
    {
      "metadata": {
        "id": "xwYJ5ri00VSe",
        "colab_type": "text"
      },
      "cell_type": "markdown",
      "source": [
        "We define two variables to pass into the methods. \n",
        "***params_fixed*** lists the parameters which will not be changed during the iterations.\n",
        "***params_grid*** lists the parameters which need to be tested in each iteration."
      ]
    },
    {
      "metadata": {
        "id": "5o6_IanYeM2p",
        "colab_type": "code",
        "colab": {
          "base_uri": "https://localhost:8080/",
          "height": 102
        },
        "outputId": "72890240-95cc-411c-a902-b4147466cee7"
      },
      "cell_type": "code",
      "source": [
        "params_fixed={'objective':'binary:logistic','silent':1.0}\n",
        "params_grid={'max_depth':[1,2,3,4,5],'n_estimators':[5,10,15,20,25],'learning_rate':np.linspace(1e-16,1,3)}\n",
        "\n",
        "bst_grid=GridSearchCV(estimator=XGBClassifier(**params_fixed),param_grid=params_grid,cv=cv,scoring='accuracy')\n",
        "\n",
        "bst_grid.fit(x,y)\n",
        "\n",
        "print(\"Best Accuracy Achieved : {}\".format(bst_grid.best_score_))\n",
        "print(\"Params\")\n",
        "for key,value in bst_grid.best_params_.items():\n",
        "    print(\"\\t{}:{}\".format(key,value))"
      ],
      "execution_count": 13,
      "outputs": [
        {
          "output_type": "stream",
          "text": [
            "Best Accuracy Achieved : 0.958\n",
            "Params\n",
            "\tlearning_rate:1.0\n",
            "\tmax_depth:4\n",
            "\tn_estimators:20\n"
          ],
          "name": "stdout"
        }
      ]
    },
    {
      "metadata": {
        "id": "h7IfLORijmen",
        "colab_type": "code",
        "colab": {}
      },
      "cell_type": "code",
      "source": [
        "from scipy.stats import randint as sp_randint\n",
        "from scipy.stats import uniform as uniform"
      ],
      "execution_count": 0,
      "outputs": []
    },
    {
      "metadata": {
        "id": "WNP1d2oo0-aj",
        "colab_type": "text"
      },
      "cell_type": "markdown",
      "source": [
        "The only differnce between **param_distributions** and **param_grid** is that in RandomizedSearchCV we provide a random distribution of values to be tested."
      ]
    },
    {
      "metadata": {
        "id": "96C5OsjWeVpH",
        "colab_type": "code",
        "colab": {
          "base_uri": "https://localhost:8080/",
          "height": 102
        },
        "outputId": "82313071-2d9c-43f0-8035-7bf43da25d18"
      },
      "cell_type": "code",
      "source": [
        "params_fixed={'objective':'binary:logistic','silent':1.0}\n",
        "params_grid={\"max_depth\": [3,1,2,4,5],'n_estimators':sp_randint(1,1001),'learning_rate':np.linspace(uniform.ppf(0.01),uniform.ppf(0.99), 10)}\n",
        "\n",
        "bst_grid=RandomizedSearchCV(estimator=XGBClassifier(**params_fixed),param_distributions=params_grid,n_iter=10,cv=cv,scoring='accuracy')\n",
        "\n",
        "bst_grid.fit(x,y)\n",
        "\n",
        "print(\"Best Accuracy Achieved : {}\".format(bst_grid.best_score_))\n",
        "print(\"Params\")\n",
        "for key,value in bst_grid.best_params_.items():\n",
        "    print(\"\\t{}:{}\".format(key,value))"
      ],
      "execution_count": 14,
      "outputs": [
        {
          "output_type": "stream",
          "text": [
            "Best Accuracy Achieved : 0.96\n",
            "Params\n",
            "\tlearning_rate:0.44555555555555554\n",
            "\tmax_depth:4\n",
            "\tn_estimators:962\n"
          ],
          "name": "stdout"
        }
      ]
    }
  ]
}